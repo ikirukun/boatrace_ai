{
 "cells": [
  {
   "cell_type": "markdown",
   "id": "2d9c95fe",
   "metadata": {},
   "source": [
    "# 競走表（K）データ取得"
   ]
  },
  {
   "cell_type": "code",
   "execution_count": 26,
   "id": "329d84d1",
   "metadata": {},
   "outputs": [
    {
     "name": "stdout",
     "output_type": "stream",
     "text": [
      "作業を開始します\n",
      "http://www1.mbrace.or.jp/od2/K/202411/k241101.lzh をダウンロードしました\n",
      "作業を終了しました\n"
     ]
    }
   ],
   "source": [
    "# 時間を制御する time モジュールをインポート\n",
    "from time import sleep\n",
    "\n",
    "# HTTP通信ライブラリの requests モジュールをインポート\n",
    "from requests import get\n",
    "\n",
    "# 日付を扱うための datetime モジュールをインポート\n",
    "from datetime import datetime as dt\n",
    "from datetime import timedelta as td\n",
    "\n",
    "# フォルダ(ディレクトリ)を作成する makedirs モジュールをインポート\n",
    "from os import makedirs\n",
    "\n",
    "# 開始日と終了日を指定(YYYY-MM-DD)\n",
    "START_DATE = \"2024-11-01\"\n",
    "END_DATE = \"2024-11-01\"\n",
    "\n",
    "# ファイルの保存先を指定　\n",
    "SAVE_DIR = \"results_lzh/\"\n",
    "\n",
    "# リクエスト間隔を指定(秒)　※サーバに負荷をかけないよう3秒以上を推奨\n",
    "INTERVAL = 3\n",
    "\n",
    "# URLの固定部分を指定\n",
    "FIXED_URL = \"http://www1.mbrace.or.jp/od2/K/\"\n",
    "\n",
    "# 開始合図\n",
    "print(\"作業を開始します\")\n",
    "\n",
    "# ファイルを格納するフォルダを作成\n",
    "makedirs(SAVE_DIR, exist_ok=True)\n",
    "\n",
    "# 開始日と終了日を日付型に変換して格納\n",
    "start_date = dt.strptime(START_DATE, '%Y-%m-%d')\n",
    "end_date = dt.strptime(END_DATE, '%Y-%m-%d')\n",
    "\n",
    "# 日付の差から期間を計算\n",
    "days_num = (end_date - start_date).days + 1\n",
    "\n",
    "# 日付リストを格納する変数\n",
    "date_list = []\n",
    "\n",
    "# 日付リストを生成\n",
    "for i in range(days_num):\n",
    "    # 開始日から日付を順に取得\n",
    "    target_date = start_date + td(days=i)\n",
    "\n",
    "    # 日付型を文字列に変換してリストに格納(YYYYMMDD)\n",
    "    date_list.append(target_date.strftime(\"%Y%m%d\"))\n",
    "\n",
    "# URL生成とダウンロード\n",
    "for date in date_list:\n",
    "\n",
    "    # URL生成\n",
    "    yyyymm = date[0:4] + date[4:6]\n",
    "    yymmdd = date[2:4] + date[4:6] + date[6:8]\n",
    "\n",
    "    variable_url = FIXED_URL + yyyymm + \"/k\" + yymmdd + \".lzh\"\n",
    "    file_name = \"k\" + yymmdd + \".lzh\"\n",
    "\n",
    "    # ダウンロード\n",
    "    r = get(variable_url)\n",
    "\n",
    "    # 成功した場合\n",
    "    if r.status_code == 200:\n",
    "        f = open(SAVE_DIR + file_name, 'wb')\n",
    "        f.write(r.content)\n",
    "        f.close()\n",
    "        print(variable_url + \" をダウンロードしました\")\n",
    "\n",
    "    # 失敗した場合\n",
    "    else:\n",
    "        print(variable_url + \" のダウンロードに失敗しました\")\n",
    "\n",
    "    # 指定した間隔をあける\n",
    "    sleep(INTERVAL)\n",
    "\n",
    "# 終了合図\n",
    "print(\"作業を終了しました\")"
   ]
  },
  {
   "cell_type": "markdown",
   "id": "863ba1fd",
   "metadata": {},
   "source": [
    "## Kデータを解凍"
   ]
  },
  {
   "cell_type": "code",
   "execution_count": 27,
   "id": "4b3ed2ea",
   "metadata": {},
   "outputs": [
    {
     "name": "stdout",
     "output_type": "stream",
     "text": [
      "作業を開始します\n",
      "results_txtK241101.TXT を解凍しました\n",
      "k241101.lzh を削除しました\n",
      "作業を終了しました\n"
     ]
    }
   ],
   "source": [
    "# 正規表現をサポートするモジュール re をインポート\n",
    "import re\n",
    "# LZH形式のファイルを解凍するパッケージ lhafile をインポート\n",
    "import lhafile\n",
    "# オペレーティングシステムの機能を利用するパッケージ os をインポート\n",
    "import os\n",
    "\n",
    "# ダウンロードしたLZHファイルが保存されている場所を指定\n",
    "LZH_FILE_DIR = \"results_lzh\"\n",
    "\n",
    "# 解凍したファイルを保存する場所を指定\n",
    "TXT_FILE_DIR = \"results_txt\"\n",
    "\n",
    "# 開始合図\n",
    "print(\"作業を開始します\")\n",
    "\n",
    "# ファイルを格納するフォルダを作成\n",
    "os.makedirs(TXT_FILE_DIR, exist_ok=True)\n",
    "\n",
    "# LZHファイルのリストを取得\n",
    "lzh_file_list = os.listdir(LZH_FILE_DIR)\n",
    "\n",
    "# 正規表現パターンを定義（日付が含まれる部分にマッチするパターン）\n",
    "pattern = r'[bk]\\d{6}\\.lzh'\n",
    "\n",
    "# ファイルの数だけ処理を繰り返す\n",
    "for lzh_file_name in lzh_file_list:\n",
    "\n",
    "    # 正規表現パターンにマッチする場合にのみ実行\n",
    "    if re.match(pattern, lzh_file_name):\n",
    "\n",
    "        lzh_file_path = os.path.join(LZH_FILE_DIR, lzh_file_name) # フルパスを作成\n",
    "\n",
    "        file = lhafile.Lhafile(os.path.join(LZH_FILE_DIR, lzh_file_name))\n",
    "\n",
    "        # 解凍したファイルの名前を取得\n",
    "        info = file.infolist()\n",
    "        name = info[0].filename\n",
    "\n",
    "        # 解凍したファイルの保存\n",
    "        open(os.path.join(TXT_FILE_DIR, name), \"wb\").write(file.read(name))\n",
    "\n",
    "        print(TXT_FILE_DIR + name + \" を解凍しました\")\n",
    "\n",
    "        # LZHファイルを削除\n",
    "        os.remove(lzh_file_path)\n",
    "        print(f\"{lzh_file_name} を削除しました\")\n",
    "\n",
    "# 終了合図\n",
    "print(\"作業を終了しました\")"
   ]
  },
  {
   "cell_type": "markdown",
   "id": "0b3a03db",
   "metadata": {},
   "source": [
    "### Kデータを移動"
   ]
  },
  {
   "cell_type": "code",
   "execution_count": 28,
   "id": "628965f3",
   "metadata": {},
   "outputs": [
    {
     "name": "stdout",
     "output_type": "stream",
     "text": [
      "/home/jovyan/work/Data_scraping\n"
     ]
    }
   ],
   "source": [
    "import os\n",
    "print(os.getcwd())"
   ]
  },
  {
   "cell_type": "code",
   "execution_count": 29,
   "id": "3564bbb9",
   "metadata": {},
   "outputs": [
    {
     "name": "stdout",
     "output_type": "stream",
     "text": [
      "Moved: K241101.TXT to /home/jovyan/work/train_data/K\n",
      "File transfer completed.\n"
     ]
    }
   ],
   "source": [
    "import os\n",
    "\n",
    "# 移動元と移動先のディレクトリパス\n",
    "source_dir = \"/home/jovyan/work/Data_scraping/results_txt\"\n",
    "destination_dir = \"/home/jovyan/work/train_data/K\"\n",
    "\n",
    "# 移動元のディレクトリ内のファイル一覧を取得\n",
    "for filename in os.listdir(source_dir):\n",
    "    # ファイルのパスを結合\n",
    "    source_path = os.path.join(source_dir, filename)\n",
    "    destination_path = os.path.join(destination_dir, filename)\n",
    "\n",
    "    # ファイルであるか確認 (ディレクトリは除外)\n",
    "    if os.path.isfile(source_path):\n",
    "        # ファイルを移動 (ファイル名が重複する場合は上書きされる)\n",
    "        os.rename(source_path, destination_path)\n",
    "        print(f\"Moved: {filename} to {destination_dir}\")\n",
    "\n",
    "print(\"File transfer completed.\")"
   ]
  },
  {
   "cell_type": "markdown",
   "id": "df30f1cb",
   "metadata": {},
   "source": [
    "# 番組表（B）データ取得"
   ]
  },
  {
   "cell_type": "code",
   "execution_count": 30,
   "id": "abd798b3",
   "metadata": {},
   "outputs": [
    {
     "name": "stdout",
     "output_type": "stream",
     "text": [
      "作業を開始します\n",
      "http://www1.mbrace.or.jp/od2/B/202411/b241101.lzh をダウンロードしました\n",
      "作業を終了しました\n"
     ]
    }
   ],
   "source": [
    "# 開始日と終了日を指定(YYYY-MM-DD)\n",
    "START_DATE = \"2024-11-01\"\n",
    "END_DATE = \"2024-11-01\"\n",
    "\n",
    "# ファイルの保存先を指定　\n",
    "SAVE_DIR = \"results_lzh/\"\n",
    "\n",
    "# リクエスト間隔を指定(秒)　※サーバに負荷をかけないよう3秒以上を推奨\n",
    "INTERVAL = 3\n",
    "\n",
    "# URLの固定部分を指定\n",
    "FIXED_URL = \"http://www1.mbrace.or.jp/od2/B/\"\n",
    "\n",
    "\n",
    "# 開始合図\n",
    "print(\"作業を開始します\")\n",
    "\n",
    "# ファイルを格納するフォルダを作成\n",
    "makedirs(SAVE_DIR, exist_ok=True)\n",
    "\n",
    "# 開始日と終了日を日付型に変換して格納\n",
    "start_date = dt.strptime(START_DATE, '%Y-%m-%d')\n",
    "end_date = dt.strptime(END_DATE, '%Y-%m-%d')\n",
    "\n",
    "# 日付の差から期間を計算\n",
    "days_num = (end_date - start_date).days + 1\n",
    "\n",
    "# 日付リストを格納する変数\n",
    "date_list = []\n",
    "\n",
    "# 日付リストを生成\n",
    "for i in range(days_num):\n",
    "    # 開始日から日付を順に取得\n",
    "    target_date = start_date + td(days=i)\n",
    "\n",
    "    # 日付型を文字列に変換してリストに格納(YYYYMMDD)\n",
    "    date_list.append(target_date.strftime(\"%Y%m%d\"))\n",
    "\n",
    "# URL生成とダウンロード\n",
    "for date in date_list:\n",
    "\n",
    "    # URL生成\n",
    "    yyyymm = date[0:4] + date[4:6]\n",
    "    yymmdd = date[2:4] + date[4:6] + date[6:8]\n",
    "\n",
    "    variable_url = FIXED_URL + yyyymm + \"/b\" + yymmdd + \".lzh\"\n",
    "    file_name = \"b\" + yymmdd + \".lzh\"\n",
    "\n",
    "    # ダウンロード\n",
    "    r = get(variable_url)\n",
    "\n",
    "    # 成功した場合\n",
    "    if r.status_code == 200:\n",
    "        f = open(SAVE_DIR + file_name, 'wb')\n",
    "        f.write(r.content)\n",
    "        f.close()\n",
    "        print(variable_url + \" をダウンロードしました\")\n",
    "\n",
    "    # 失敗した場合\n",
    "    else:\n",
    "        print(variable_url + \" のダウンロードに失敗しました\")\n",
    "\n",
    "    # 指定した間隔をあける\n",
    "    sleep(INTERVAL)\n",
    "\n",
    "# 終了合図\n",
    "print(\"作業を終了しました\")"
   ]
  },
  {
   "cell_type": "markdown",
   "id": "14683755",
   "metadata": {},
   "source": [
    "## Bデータ解凍"
   ]
  },
  {
   "cell_type": "code",
   "execution_count": 31,
   "id": "c40ad5ef",
   "metadata": {},
   "outputs": [
    {
     "name": "stdout",
     "output_type": "stream",
     "text": [
      "作業を開始します\n",
      "results_txtB241101.TXT を解凍しました\n",
      "作業を終了しました\n"
     ]
    }
   ],
   "source": [
    "# 正規表現をサポートするモジュール re をインポート\n",
    "import re\n",
    "# LZH形式のファイルを解凍するパッケージ lhafile をインポート\n",
    "import lhafile\n",
    "# オペレーティングシステムの機能を利用するパッケージ os をインポート\n",
    "import os\n",
    "\n",
    "# ダウンロードしたLZHファイルが保存されている場所を指定\n",
    "LZH_FILE_DIR = \"results_lzh\"\n",
    "\n",
    "# 解凍したファイルを保存する場所を指定\n",
    "TXT_FILE_DIR = \"results_txt\"\n",
    "\n",
    "# 開始合図\n",
    "print(\"作業を開始します\")\n",
    "\n",
    "# ファイルを格納するフォルダを作成\n",
    "os.makedirs(TXT_FILE_DIR, exist_ok=True)\n",
    "\n",
    "# LZHファイルのリストを取得\n",
    "lzh_file_list = os.listdir(LZH_FILE_DIR)\n",
    "\n",
    "# 正規表現パターンを定義（日付が含まれる部分にマッチするパターン）\n",
    "pattern = r'[bk]\\d{6}\\.lzh'\n",
    "\n",
    "# ファイルの数だけ処理を繰り返す\n",
    "for lzh_file_name in lzh_file_list:\n",
    "\n",
    "    # 正規表現パターンにマッチする場合にのみ実行\n",
    "    if re.match(pattern, lzh_file_name):\n",
    "\n",
    "        lzh_file_path = os.path.join(LZH_FILE_DIR, lzh_file_name) # フルパスを作成\n",
    "\n",
    "        file = lhafile.Lhafile(os.path.join(LZH_FILE_DIR, lzh_file_name))\n",
    "\n",
    "        # 解凍したファイルの名前を取得\n",
    "        info = file.infolist()\n",
    "        name = info[0].filename\n",
    "\n",
    "        # 解凍したファイルの保存\n",
    "        open(os.path.join(TXT_FILE_DIR, name), \"wb\").write(file.read(name))\n",
    "\n",
    "        print(TXT_FILE_DIR + name + \" を解凍しました\")\n",
    "\n",
    "        # LZHファイルを削除\n",
    "        os.remove(lzh_file_path)\n",
    "        print(f\"{lzh_file_name} を削除しました\")\n",
    "\n",
    "# 終了合図\n",
    "print(\"作業を終了しました\")"
   ]
  },
  {
   "cell_type": "markdown",
   "id": "389be394",
   "metadata": {},
   "source": [
    "### Bデータを移動"
   ]
  },
  {
   "cell_type": "code",
   "execution_count": 32,
   "id": "13f26537",
   "metadata": {},
   "outputs": [
    {
     "name": "stdout",
     "output_type": "stream",
     "text": [
      "Moved: B241101.TXT to /home/jovyan/work/train_data/B\n",
      "File transfer completed.\n"
     ]
    }
   ],
   "source": [
    "import os\n",
    "\n",
    "# 移動元と移動先のディレクトリパス\n",
    "source_dir = \"/home/jovyan/work/Data_scraping/results_txt\"\n",
    "destination_dir = \"/home/jovyan/work/train_data/B\"\n",
    "\n",
    "# 移動元のディレクトリ内のファイル一覧を取得\n",
    "for filename in os.listdir(source_dir):\n",
    "    # ファイルのパスを結合\n",
    "    source_path = os.path.join(source_dir, filename)\n",
    "    destination_path = os.path.join(destination_dir, filename)\n",
    "\n",
    "    # ファイルであるか確認 (ディレクトリは除外)\n",
    "    if os.path.isfile(source_path):\n",
    "        # ファイルを移動 (ファイル名が重複する場合は上書きされる)\n",
    "        os.rename(source_path, destination_path)\n",
    "        print(f\"Moved: {filename} to {destination_dir}\")\n",
    "\n",
    "print(\"File transfer completed.\")"
   ]
  }
 ],
 "metadata": {
  "kernelspec": {
   "display_name": "base",
   "language": "python",
   "name": "python3"
  },
  "language_info": {
   "codemirror_mode": {
    "name": "ipython",
    "version": 3
   },
   "file_extension": ".py",
   "mimetype": "text/x-python",
   "name": "python",
   "nbconvert_exporter": "python",
   "pygments_lexer": "ipython3",
   "version": "3.11.6"
  }
 },
 "nbformat": 4,
 "nbformat_minor": 5
}
